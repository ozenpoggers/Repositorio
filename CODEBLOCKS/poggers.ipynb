{
 "cells": [
  {
   "cell_type": "code",
   "execution_count": 2,
   "metadata": {},
   "outputs": [
    {
     "name": "stdout",
     "output_type": "stream",
     "text": [
      "0:1:22\n"
     ]
    }
   ],
   "source": [
    "n = int(input(\"Digite o tempo de duração em segundos:\"))\n",
    "horas = n // 3600\n",
    "minutos = (n % 3600) // 60\n",
    "segundos = n % 60\n",
    "print(f\"{horas}:{minutos}:{segundos}\")"
   ]
  },
  {
   "cell_type": "code",
   "execution_count": 20,
   "metadata": {},
   "outputs": [
    {
     "name": "stdout",
     "output_type": "stream",
     "text": [
      "Carlos ganhou\n"
     ]
    }
   ],
   "source": [
    "#Rafael r(x, y) = (3x)² + y² --> r(x, y) = (3 * x) ** 2 + y ** 2  \n",
    "#Beto b(x, y) = 2(x²) + (5y)² --> b(x,y) = 2 * (x ** 2) + (5 * y) ** 2\n",
    "#Carlos c(x, y) = -100x + y³ --> c(x,y) = -100 * x + y ** 3 \n",
    "\n",
    "# receber 2 numeros inteiros X e Y sendo X <= 1, e Y <= 100\n",
    "\n",
    "x = int(input(\"Digite o valor de x \"))\n",
    "y = int(input(\"Digite o valor de y \"))\n",
    "if (3 * x) ** 2 + y ** 2 > 2 * (x ** 2) + (5 * y) ** 2 > (-100 * x) + y ** 3:\n",
    "    print(\"Rafael ganhou\")\n",
    "elif 2 * (x ** 2) + (5 * y) ** 2 > -100 * x + y ** 3 > (3 * x) ** 2 + y ** 2:\n",
    "        print(\"Beto ganhou\")\n",
    "else: print(\"Carlos ganhou\")\n",
    "\n",
    "\n",
    "\n",
    "\n"
   ]
  }
 ],
 "metadata": {
  "kernelspec": {
   "display_name": "Python 3",
   "language": "python",
   "name": "python3"
  },
  "language_info": {
   "codemirror_mode": {
    "name": "ipython",
    "version": 3
   },
   "file_extension": ".py",
   "mimetype": "text/x-python",
   "name": "python",
   "nbconvert_exporter": "python",
   "pygments_lexer": "ipython3",
   "version": "3.12.5"
  }
 },
 "nbformat": 4,
 "nbformat_minor": 2
}
